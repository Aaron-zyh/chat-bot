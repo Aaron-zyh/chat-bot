{
 "cells": [
  {
   "cell_type": "code",
   "execution_count": null,
   "metadata": {},
   "outputs": [],
   "source": [
    "import os\n",
    "import json"
   ]
  },
  {
   "cell_type": "code",
   "execution_count": null,
   "metadata": {},
   "outputs": [],
   "source": [
    "def add_train_data(data,week):\n",
    "    ques = []\n",
    "    sol  = []\n",
    "    exl  = []\n",
    "    exes = []\n",
    "    \n",
    "    for ele in data:\n",
    "        t = ' '.join(ele['key_words'])\n",
    "        if ele['intent_tag'] == 'unknow':\n",
    "            ques.append({'question':\"What is \"+ t + \" ?\",'answer': ele['content'],'intent':'description','key_words':ele['key_words']})\n",
    "            ques.append({'question':\"What does \"+ t + \" mean ?\",'answer': ele['content'],'intent':'description','key_words':ele['key_words']})\n",
    "            ques.append({'question':\"Tell me something about \"+ t + \" ?\",'answer': ele['content'],'intent':'description','key_words':ele['key_words']})\n",
    "            ques.append({'question':t,'answer': ele['content'],'intent':'description','key_words':ele['key_words']})\n",
    "            ques.append({'question':\"Explain \" + t +\" ?\",'answer': ele['content'],'intent':'description','key_words':ele['key_words']})\n",
    "            ques.append({'question':\"Elaborate \" + t +\" ?\",'answer': ele['content'],'intent':'description','key_words':ele['key_words']})\n",
    "            ques.append({'question':\"Can you tell me about \" + t + \" ?\",'answer': ele['content'],'intent':'description','key_words':ele['key_words']})\n",
    "            ques.append({'question':\"What do you know about \" + t + \" ?\",'answer': ele['content'],'intent':'description','key_words':ele['key_words']})\n",
    "            ques.append({'question':\"What can you tell me about \" + t + \" ?\",'answer': ele['content'],'intent':'description','key_words':ele['key_words']})\n",
    "            ques.append({'question':\"I want to know about\" + t ,'answer': ele['content'],'intent':'description','key_words':ele['key_words']})\n",
    "            ques.append({'question':\"Do you have information about \" + t + \" ?\",'answer': ele['content'],'intent':'description','key_words':ele['key_words']})\n",
    "\n",
    "\n",
    "            sol.append({'question':\"How to solve \"+ t + \" ?\",'answer': ele['content'],'intent':'solution','key_words':ele['key_words']})\n",
    "            sol.append({'question':\"How to resolve \"+ t + \" ?\",'answer': ele['content'],'intent':'solution','key_words':ele['key_words']})\n",
    "            sol.append({'question':\"How to mitigate \"+ t + \" ?\",'answer': ele['content'],'intent':'solution','key_words':ele['key_words']})\n",
    "            sol.append({'question':\"Solution for \"+ t,'answer': ele['content'],'intent':'solution','key_words':ele['key_words']})\n",
    "            sol.append({'question':\"Provide me some Solution for \"+ t,'answer': ele['content'],'intent':'solution','key_words':ele['key_words']})\n",
    "            sol.append({'question':\"mitigation for \"+ t,'answer': ele['content'],'intent':'solution','key_words':ele['key_words']})\n",
    "            sol.append({'question':\"How to stop \"+ t + \" ?\",'answer': ele['content'],'intent':'solution','key_words':ele['key_words']})\n",
    "            sol.append({'question':\"How to defend \"+ t + \" ?\",'answer': ele['content'],'intent':'solution','key_words':ele['key_words']})\n",
    "            sol.append({'question':\"How to get secured against \"+ t + \" ?\",'answer': ele['content'],'intent':'solution','key_words':ele['key_words']})\n",
    "            sol.append({'question':\"Solution, \"+t,'answer': ele['content'],'intent':'solution','key_words':ele['key_words']})\n",
    "        if ele['intent_tag'] == 'example':\n",
    "            print(t)\n",
    "            exl.append({'question':\"May i have \"+ t + \" ?\",'answer': ele['content'],'intent':'example','key_words':ele['key_words']})\n",
    "            exl.append({'question':\"List some \"+ t + \" ?\",'answer': ele['content'],'intent':'example','key_words':ele['key_words']})\n",
    "            exl.append({'question':t,'answer': ele['content'],'intent':'example','key_words':ele['key_words']})\n",
    "            exl.append({'question': \"Give me some \"+ t + \" ?\",'answer': ele['content'],'intent':'example','key_words':ele['key_words']})\n",
    "            exl.append({'question': \"Do you have some \"+ t + \" ?\",'answer': ele['content'],'intent':'example','key_words':ele['key_words']})\n",
    "            exl.append({'question': \"Can i have some \"+ t + \" ?\",'answer': ele['content'],'intent':'example','key_words':ele['key_words']})\n",
    "        if ele['intent_tag'] == 'exercise':\n",
    "            t = ' '.join(ele['key_words'][2:])\n",
    "            print(week)\n",
    "            exes.append({'question': \"Give me some exercises about \"+ t + \" ?\",'answer': ele['content'],'intent':'exercise','key_words':ele['key_words']})\n",
    "            exes.append({'question': \"Do you have some exercises about \"+ t + \" ?\",'answer': ele['content'],'intent':'exercise','key_words':ele['key_words']})\n",
    "            exes.append({'question': \"exercises for \" + t,'answer': ele['content'],'intent':'exercise','key_words':ele['key_words']})\n",
    "            exes.append({'question': \"week \" + str(week) + \" exercises \" + t,'answer': ele['content'],'intent':'exercise','key_words':ele['key_words']})\n",
    "            exes.append({'question': \"I want a exercise about week \" + str(week) ,'answer': ele['content'],'intent':'exercise','key_words':ele['key_words']})\n",
    "        if ele['question'] is not None:\n",
    "            for q in ele['question']:\n",
    "                ques.append({'question': q,'intent':'description','key_words':ele['key_words']})\n",
    "                #print({'question': q,'intent':'description','key_words':ele['key_words']})\n",
    "    return sol,ques,exl,exes\n",
    "        \n",
    "        "
   ]
  },
  {
   "cell_type": "code",
   "execution_count": null,
   "metadata": {
    "collapsed": true
   },
   "outputs": [],
   "source": []
  },
  {
   "cell_type": "code",
   "execution_count": null,
   "metadata": {},
   "outputs": [],
   "source": [
    "if __name__ == '__main__':\n",
    "    \n",
    "    for i in range(1,11):\n",
    "        try:\n",
    "            data = 'None'\n",
    "            if i < 10:\n",
    "                week = 'week0'\n",
    "            else:\n",
    "                week = 'week'\n",
    "            file_adr = './data_preprocessed/'+ week + str(i)+'.json'\n",
    "            \n",
    "            with open(file_adr,'r') as f:\n",
    "                data = json.loads(f.read())\n",
    "            print('ok')\n",
    "            s, q,exl,exes = add_train_data(data,i)\n",
    "            if not os.path.exists('./data_sol/'):\n",
    "                os.makedirs('./data_sol/')\n",
    "            if not os.path.exists('./data_ques/'):\n",
    "                os.makedirs('./data_ques/')\n",
    "            if not os.path.exists('./data_exes/'):\n",
    "                os.makedirs('./data_exes/')\n",
    "            if not os.path.exists('./data_exl/'):\n",
    "                os.makedirs('./data_exl/')\n",
    "            sol = json.dumps(s, indent=1)\n",
    "            ques = json.dumps(q, indent=1)\n",
    "            example = json.dumps(exl, indent=1)\n",
    "            exercise = json.dumps(exes, indent=1)\n",
    "\n",
    "            output_adr_s = './data_sol/'+ week + str(i)+'.json'\n",
    "            output_adr_q = './data_ques/'+ week + str(i)+'.json'\n",
    "            output_adr_el = './data_exl/'+ week + str(i)+'.json'\n",
    "            output_adr_ex = './data_exes/'+ week + str(i)+'.json'\n",
    "            \n",
    "            with open(output_adr_q,'w') as f:\n",
    "                f.write(ques)\n",
    "            with open(output_adr_s,'w') as f:\n",
    "                f.write(sol)\n",
    "            with open(output_adr_el,'w') as f:\n",
    "                f.write(example)\n",
    "            with open(output_adr_ex,'w') as f:\n",
    "                f.write(exercise)\n",
    "        except:\n",
    "            print('week',i,'was not processed...')"
   ]
  },
  {
   "cell_type": "code",
   "execution_count": null,
   "metadata": {
    "collapsed": true
   },
   "outputs": [],
   "source": []
  },
  {
   "cell_type": "code",
   "execution_count": null,
   "metadata": {
    "collapsed": true
   },
   "outputs": [],
   "source": []
  },
  {
   "cell_type": "code",
   "execution_count": null,
   "metadata": {
    "collapsed": true
   },
   "outputs": [],
   "source": []
  }
 ],
 "metadata": {
  "kernelspec": {
   "display_name": "Python 3",
   "language": "python",
   "name": "python3"
  },
  "language_info": {
   "codemirror_mode": {
    "name": "ipython",
    "version": 3
   },
   "file_extension": ".py",
   "mimetype": "text/x-python",
   "name": "python",
   "nbconvert_exporter": "python",
   "pygments_lexer": "ipython3",
   "version": "3.6.7"
  }
 },
 "nbformat": 4,
 "nbformat_minor": 2
}
