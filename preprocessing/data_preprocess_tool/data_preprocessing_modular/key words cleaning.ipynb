{
 "cells": [
  {
   "cell_type": "code",
   "execution_count": 290,
   "metadata": {
    "collapsed": true
   },
   "outputs": [],
   "source": [
    "import json\n",
    "import numpy\n",
    "import nltk\n",
    "import os\n",
    "from nltk.corpus import wordnet as wn\n",
    "import re"
   ]
  },
  {
   "cell_type": "code",
   "execution_count": 291,
   "metadata": {
    "collapsed": true
   },
   "outputs": [],
   "source": [
    "def read():\n",
    "    data = [[] for _ in range(12)]\n",
    "    for i in range(1,11):\n",
    "        try:\n",
    "            if i < 10:\n",
    "                week = 'week0'\n",
    "            else:\n",
    "                week = 'week'\n",
    "            file_adr = './data_preprocessed/'+ week + str(i)+'.json'\n",
    "            with open(file_adr,'r') as f:\n",
    "                data[i] += json.loads(f.read())\n",
    "        except:\n",
    "            print('week',i,'was not read...')\n",
    "    return data\n",
    "\n",
    "def write(data):\n",
    "    for i in range(1,11):\n",
    "        try:\n",
    "            if i < 10:\n",
    "                week = 'week0'\n",
    "            else:\n",
    "                week = 'week'\n",
    "            if not os.path.exists('./data_pre/'):\n",
    "                os.makedirs('./data_pre/')\n",
    "            file_adr = './data_pre/'+ week + str(i)+'.json'\n",
    "            with open(file_adr,'w') as f:\n",
    "                f.write(json.dumps(data[i],indent=1))  \n",
    "        except:\n",
    "            print('week',i,'was not writed...')\n",
    "\n",
    "\n",
    "def extract_questions_2(string):\n",
    "    if(re.match('(how|what|why).*',str.lower(string))):\n",
    "        \n",
    "        find = [sentence for sentence in string.split('\\n') if re.match('(how|what|why).*',str.lower(sentence))]\n",
    "        string = '\\n'.join([sentence for sentence in string.split('\\n') if not re.match('(how|what|why).*',str.lower(sentence))])\n",
    "        for i,ele in enumerate(find):\n",
    "            if re.match('.*... Throughput!.*',ele):\n",
    "                string = 'Throughput!'\n",
    "                find[i] = 'Why parallelism?'\n",
    "            else:   \n",
    "                find[i] = find[i].replace(':','?')\n",
    "                find[i] = find[i].replace('...','?')\n",
    "                print('find: ',find[i],ele.replace(':','?'))\n",
    "        #print('string: ',string)\n",
    "\n",
    "        return find,string\n",
    "\n",
    "    return None,string\n"
   ]
  },
  {
   "cell_type": "code",
   "execution_count": 305,
   "metadata": {},
   "outputs": [
    {
     "name": "stdout",
     "output_type": "stream",
     "text": [
      "week 5 was not read...\n"
     ]
    }
   ],
   "source": [
    "if __name__ == '__main__':\n",
    "    lemma = nltk.wordnet.WordNetLemmatizer()\n",
    "    data = None\n",
    "    data = read()\n",
    "    keys = []\n",
    "    for i,week in enumerate(data):\n",
    "        for j,ele in enumerate(week):#ele: is data of a slide\n",
    "            \n",
    "            keys.append([lemma.lemmatize(str.lower(key)) for key in ele['key_words']])\n",
    "            data[i][j]['key_words'] = [lemma.lemmatize(str.lower(key)) for key in ele['key_words']]\n",
    "            data[i][j]['key_words'] = re.split(' |\\/',' '.join(data[i][j]['key_words']))\n",
    "            data[i][j]['question'],data[i][j]['content'] = extract_questions_2(data[i][j]['content'])\n",
    "\n",
    "    \n",
    "    #write(data)\n"
   ]
  },
  {
   "cell_type": "code",
   "execution_count": null,
   "metadata": {
    "collapsed": true
   },
   "outputs": [],
   "source": []
  },
  {
   "cell_type": "code",
   "execution_count": 306,
   "metadata": {},
   "outputs": [
    {
     "name": "stdout",
     "output_type": "stream",
     "text": [
      "[\"What's available for you?\"]\n",
      "[\"What's available for you?\"] ['learning', 'teaching']\n",
      "['How to get started understanding the workings of PostgreSQL?']\n",
      "['How to get started understanding the workings of PostgreSQL?'] ['postgresql', 'source', 'code']\n",
      "['How do we determine ?']\n",
      "['How do we determine ?'] ['from', 'symbolic', 'to', 'internal']\n",
      "['How is data for DB objects arranged in the file system?']\n",
      "['How is data for DB objects arranged in the file system?'] ['dbms', 'file', 'organisation']\n",
      "['How scans are performed without Buffer Pool?']\n",
      "['How scans are performed without Buffer Pool?'] ['buffer', 'pool']\n",
      "['How scans are performed with Buffer Pool?']\n",
      "['How scans are performed with Buffer Pool?'] ['buffer', 'pool']\n",
      "['How many records can fit in a page? (denoted C = capacity)']\n",
      "['How many records can fit in a page? (denoted C = capacity)'] ['storage', 'utilisation']\n",
      "['How to decide that we \"need to split\"?']\n",
      "['How to decide that we \"need to split\"?'] ['splitting']\n",
      "['How this tree partitions the tuple space?']\n",
      "['How this tree partitions the tuple space?'] ['kd-trees']\n",
      "['How to determine \"optimal\" m and k?']\n",
      "['How to determine \"optimal\" m and k?'] ['simc', 'parameter']\n",
      "['Why block nested loop join is actually useful in practice ?']\n",
      "['Why block nested loop join is actually useful in practice ?'] ['block', 'nested', 'loop', 'join']\n",
      "['Why do we not generate optimal query execution plans?']\n",
      "['Why do we not generate optimal query execution plans?'] ['query', 'optimisation']\n",
      "['How to handle non-uniform attribute value distributions?']\n",
      "['How to handle non-uniform attribute value distributions?'] ['estimating', 'selection', 'result', 'size']\n",
      "['How many tuples are in the output from?']\n",
      "['How many tuples are in the output from?'] ['exercise', '3:', 'join', 'size', 'estimation']\n",
      "['How pipelining is organised between two operators?']\n",
      "['How pipelining is organised between two operators?'] ['pipelining']\n",
      "['How to make a database perform \"better\"?']\n",
      "['How to make a database perform \"better\"?'] ['performance', 'tuning']\n",
      "['What problems can occur with uncontrolled concurrent transactions?']\n",
      "['What problems can occur with uncontrolled concurrent transactions?'] ['transaction', 'anomaly']\n",
      "['How could we solve this problem via locking?']\n",
      "['How could we solve this problem via locking?'] ['exercise', '7:', 'locking', 'in', 'postgresql']\n",
      "[\"What's in the framework ?\"]\n",
      "[\"What's in the framework ?\"] ['assignment', '2']\n",
      "['What kinds of \"system failures\" do we need to deal with?']\n",
      "['What kinds of \"system failures\" do we need to deal with?'] ['durability']\n",
      "['How to overcome (some of) these limitations?']\n",
      "['How to overcome (some of) these limitations?'] ['future', 'of', 'database']\n",
      "['Why parallelism?']\n",
      "['Why parallelism?'] ['parallel', 'dbms']\n"
     ]
    },
    {
     "data": {
      "text/plain": [
       "{'topic': 'Exercise 7: Locking in PostgreSQL\\n',\n",
       " 'content': ' create or replace function\\n     allocSeat(paxID int, fltID int, seat text)\\n     returns boolean\\n as $$\\n declare\\n     pid int;\\n begin\\n     select paxID into pid from SeatingAlloc\\n     where  flightID = fltID and seatNum = seat;\\n     if (pid is not null) then\\n         return false;  -- someone else already has seat\\n     else\\n         update SeatingAlloc set pax = paxID\\n         where  flightID = fltID and seatNum = seat;\\n         commit;\\n         return true;\\n     end if;\\n end;\\n $$ langauge plpgsql;\\n Produced: 13 Sep 2018\\n',\n",
       " 'key_words': ['exercise', '7:', 'locking', 'in', 'postgresql'],\n",
       " 'question': ['How could we solve this problem via locking?']}"
      ]
     },
     "execution_count": 306,
     "metadata": {},
     "output_type": "execute_result"
    }
   ],
   "source": [
    "for week in data:\n",
    "    for ele in week:\n",
    "        if ele['question'] is not None:\n",
    "            print(ele['question']) \n",
    "            print(ele['question'],ele['key_words']) \n",
    "data[8][-1]"
   ]
  },
  {
   "cell_type": "code",
   "execution_count": 4,
   "metadata": {},
   "outputs": [
    {
     "name": "stdout",
     "output_type": "stream",
     "text": [
      "[Synset('system.n.01'), Synset('system.n.02'), Synset('system.n.03'), Synset('system.n.04'), Synset('arrangement.n.03'), Synset('system.n.06'), Synset('system.n.07'), Synset('system.n.08'), Synset('organization.n.05')]\n",
      "['system']\n",
      "['system', 'scheme']\n",
      "['system']\n",
      "['system', 'system_of_rules']\n",
      "['arrangement', 'organization', 'organisation', 'system']\n",
      "['system']\n",
      "['system']\n",
      "['system']\n",
      "['organization', 'organisation', 'system']\n"
     ]
    }
   ],
   "source": [
    "syns = wn.synsets(\"systems\")\n",
    "print(syns)\n",
    "for syn in syns:\n",
    "    print(syn.lemma_names())"
   ]
  },
  {
   "cell_type": "code",
   "execution_count": 140,
   "metadata": {
    "collapsed": true
   },
   "outputs": [],
   "source": []
  },
  {
   "cell_type": "code",
   "execution_count": 198,
   "metadata": {
    "collapsed": true
   },
   "outputs": [],
   "source": []
  },
  {
   "cell_type": "code",
   "execution_count": 200,
   "metadata": {},
   "outputs": [
    {
     "ename": "TypeError",
     "evalue": "'str' object does not support item assignment",
     "output_type": "error",
     "traceback": [
      "\u001b[0;31m---------------------------------------------------------------------------\u001b[0m",
      "\u001b[0;31mTypeError\u001b[0m                                 Traceback (most recent call last)",
      "\u001b[0;32m<ipython-input-200-73074ca69ff5>\u001b[0m in \u001b[0;36m<module>\u001b[0;34m\u001b[0m\n\u001b[1;32m      2\u001b[0m     \u001b[0;32mif\u001b[0m \u001b[0mele\u001b[0m\u001b[0;34m[\u001b[0m\u001b[0;34m-\u001b[0m\u001b[0;36m1\u001b[0m\u001b[0;34m]\u001b[0m \u001b[0;32mis\u001b[0m \u001b[0;32mnot\u001b[0m \u001b[0;34m'?'\u001b[0m\u001b[0;34m:\u001b[0m\u001b[0;34m\u001b[0m\u001b[0;34m\u001b[0m\u001b[0m\n\u001b[1;32m      3\u001b[0m         \u001b[0;32mif\u001b[0m \u001b[0mele\u001b[0m\u001b[0;34m[\u001b[0m\u001b[0;34m-\u001b[0m\u001b[0;36m1\u001b[0m\u001b[0;34m]\u001b[0m \u001b[0;32mis\u001b[0m \u001b[0;34m':'\u001b[0m\u001b[0;34m:\u001b[0m\u001b[0;34m\u001b[0m\u001b[0;34m\u001b[0m\u001b[0m\n\u001b[0;32m----> 4\u001b[0;31m             \u001b[0mda\u001b[0m\u001b[0;34m[\u001b[0m\u001b[0mi\u001b[0m\u001b[0;34m]\u001b[0m\u001b[0;34m[\u001b[0m\u001b[0;34m-\u001b[0m\u001b[0;36m1\u001b[0m\u001b[0;34m]\u001b[0m \u001b[0;34m=\u001b[0m \u001b[0;34m'?'\u001b[0m\u001b[0;34m\u001b[0m\u001b[0;34m\u001b[0m\u001b[0m\n\u001b[0m\u001b[1;32m      5\u001b[0m         \u001b[0;32mif\u001b[0m \u001b[0mele\u001b[0m\u001b[0;34m[\u001b[0m\u001b[0;34m-\u001b[0m\u001b[0;36m1\u001b[0m\u001b[0;34m]\u001b[0m \u001b[0;32mis\u001b[0m \u001b[0;34m'.'\u001b[0m\u001b[0;34m:\u001b[0m\u001b[0;34m\u001b[0m\u001b[0;34m\u001b[0m\u001b[0m\n\u001b[1;32m      6\u001b[0m             \u001b[0mtem\u001b[0m \u001b[0;34m=\u001b[0m \u001b[0;34m' '\u001b[0m\u001b[0;34m.\u001b[0m\u001b[0mjoin\u001b[0m\u001b[0;34m(\u001b[0m\u001b[0mele\u001b[0m\u001b[0;34m.\u001b[0m\u001b[0msplit\u001b[0m\u001b[0;34m(\u001b[0m\u001b[0;34m' '\u001b[0m\u001b[0;34m)\u001b[0m\u001b[0;34m[\u001b[0m\u001b[0;34m:\u001b[0m\u001b[0;34m-\u001b[0m\u001b[0;36m1\u001b[0m\u001b[0;34m]\u001b[0m\u001b[0;34m)\u001b[0m\u001b[0;34m\u001b[0m\u001b[0;34m\u001b[0m\u001b[0m\n",
      "\u001b[0;31mTypeError\u001b[0m: 'str' object does not support item assignment"
     ]
    }
   ],
   "source": []
  },
  {
   "cell_type": "code",
   "execution_count": 316,
   "metadata": {},
   "outputs": [
    {
     "name": "stdout",
     "output_type": "stream",
     "text": [
      "week 5 was not read...\n"
     ]
    }
   ],
   "source": [
    "data = read()\n",
    "for i,week in enumerate(data):\n",
    "    for j,ele in enumerate(week):#ele: is data of a slide\n",
    "        data[i][j]['key_words'] = re.split(' |\\/',' '.join(data[i][j]['key_words']))"
   ]
  },
  {
   "cell_type": "code",
   "execution_count": 323,
   "metadata": {},
   "outputs": [
    {
     "name": "stdout",
     "output_type": "stream",
     "text": [
      "week 5 was not read...\n",
      "{'topic': '   /* Set up the internal state */\\n', 'content': '   len = keylen;  a = b = 0x9e3779b9;  c = 3923095;\\n', 'key_words': ['', '', '', '', '*', 'set', 'up', 'the', 'internal', 'state', '*', '\\n'], 'question': None}\n",
      "4 61\n",
      "{'topic': '... Hashing \\n', 'content': 'PostgreSQL hash function (simplified):\\n uint32 hash_any(unsigned char *k, register int keylen)\\n {\\n    register uint32 a, b, c, len;\\n', 'key_words': ['hashing'], 'question': None}\n",
      "{'topic': '   /* handle most of the key */\\n', 'content': '   while (len >= 12) {\\n       a += (k[0] + (k[1]<<8) + (k[2]<<16) + (k[3]<<24));\\n       b += (k[4] + (k[5]<<8) + (k[6]<<16) + (k[7]<<24));\\n       c += (k[8] + (k[9]<<8) + (k[10]<<16) + (k[11]<<24));\\n       mix(a, b, c);   k += 12; len -= 12;\\n    }\\n', 'key_words': ['', '', '', '', '*', 'handle', 'most', 'of', 'the', 'key', '*', '\\n'], 'question': None}\n",
      "4 62\n",
      "{'topic': '   /* Set up the internal state */\\n', 'content': '   len = keylen;  a = b = 0x9e3779b9;  c = 3923095;\\n', 'key_words': ['', '', '', '', '*', 'set', 'up', 'the', 'internal', 'state', '*', '\\n'], 'question': None}\n",
      "{'topic': '   /* collect any data from last 11 bytes into a,b,c */\\n', 'content': '   mix(a, b, c);\\n    return c;\\n }\\n See backend/access/hash/hashfunc.c for details  (incl mix())\\n', 'key_words': ['', '', '', '', '*', 'collect', 'any', 'data', 'from', 'last', '11', 'byte', 'into', 'a,b,c', '*', '\\n'], 'question': None}\n",
      "4 63\n",
      "{'topic': '   /* handle most of the key */\\n', 'content': '   while (len >= 12) {\\n       a += (k[0] + (k[1]<<8) + (k[2]<<16) + (k[3]<<24));\\n       b += (k[4] + (k[5]<<8) + (k[6]<<16) + (k[7]<<24));\\n       c += (k[8] + (k[9]<<8) + (k[10]<<16) + (k[11]<<24));\\n       mix(a, b, c);   k += 12; len -= 12;\\n    }\\n', 'key_words': ['', '', '', '', '*', 'handle', 'most', 'of', 'the', 'key', '*', '\\n'], 'question': None}\n"
     ]
    }
   ],
   "source": [
    "hy = read()\n",
    "for i,week in enumerate(hy):\n",
    "    for j,ele in enumerate(week):#ele: is data of a slide\n",
    "        if re.match('.*\\*.*',' '.join(ele['key_words'])):\n",
    "            print(ele)\n",
    "            print(i,j)\n",
    "            print(hy[i][j-1])"
   ]
  },
  {
   "cell_type": "code",
   "execution_count": 289,
   "metadata": {},
   "outputs": [
    {
     "data": {
      "text/plain": [
       "{'topic': 'Exercise 7: Locking in PostgreSQL\\n',\n",
       " 'content': ' create or replace function\\n     allocSeat(paxID int, fltID int, seat text)\\n     returns boolean\\n as $$\\n declare\\n     pid int;\\n begin\\n     select paxID into pid from SeatingAlloc\\n     where  flightID = fltID and seatNum = seat;\\n     if (pid is not null) then\\n         return false;  -- someone else already has seat\\n     else\\n         update SeatingAlloc set pax = paxID\\n         where  flightID = fltID and seatNum = seat;\\n         commit;\\n         return true;\\n     end if;\\n end;\\n $$ langauge plpgsql;\\n Produced: 13 Sep 2018\\n',\n",
       " 'key_words': ['exercise', '7:', 'locking', 'in', 'postgresql'],\n",
       " 'question': ['How could we solve this problem via locking?']}"
      ]
     },
     "execution_count": 289,
     "metadata": {},
     "output_type": "execute_result"
    }
   ],
   "source": []
  },
  {
   "cell_type": "code",
   "execution_count": 324,
   "metadata": {},
   "outputs": [
    {
     "data": {
      "text/plain": [
       "True"
      ]
     },
     "execution_count": 324,
     "metadata": {},
     "output_type": "execute_result"
    }
   ],
   "source": [
    "not []"
   ]
  },
  {
   "cell_type": "code",
   "execution_count": null,
   "metadata": {
    "collapsed": true
   },
   "outputs": [],
   "source": []
  }
 ],
 "metadata": {
  "kernelspec": {
   "display_name": "Python 3",
   "language": "python",
   "name": "python3"
  },
  "language_info": {
   "codemirror_mode": {
    "name": "ipython",
    "version": 3
   },
   "file_extension": ".py",
   "mimetype": "text/x-python",
   "name": "python",
   "nbconvert_exporter": "python",
   "pygments_lexer": "ipython3",
   "version": "3.6.7"
  }
 },
 "nbformat": 4,
 "nbformat_minor": 2
}
